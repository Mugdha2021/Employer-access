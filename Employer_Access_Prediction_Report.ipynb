{
 "cells": [
  {
   "cell_type": "markdown",
   "metadata": {},
   "source": [
    "# Company Introduction\n",
    "Your client for this project is a multinational technology company.\n",
    "\n",
    "**ECorp** is an American multinational technology company that focuses on e-commerce, cloud computing, digital streaming, and artificial intelligence.\n",
    "They are spread across the globe with hundreds of thousands of employees in these domains.\n",
    "When an employee at any company starts working, they first need to obtain the resource access necessary to fulfill their role.\n",
    "Employees passing certain criteria regarding their primary and secondary roles are granted access to the requested resources.\n",
    "This efficient system has helped the company maintain background checks of its employees and usage of allocated resources.\n",
    "\n",
    "# Current Scenario\n",
    "A group of employees has been invited to test the automated system. An auto-access model seeks to minimize the human involvement required to grant or revoke employee access."
   ]
  },
  {
   "cell_type": "markdown",
   "metadata": {},
   "source": [
    "The current process suffers from the following problems:\n",
    "\n",
    "If an employee discovers that they need access to certain resources, they are supposed to contact a knowledgeable supervisor.\n",
    "The supervisor takes time to manually grant the needed access to the requesting employee.\n",
    "As employees move throughout a company, this access discovery/recovery cycle wastes a non-trivial amount of time and money.\n",
    "\n",
    "The company has hired you as a data science consultant. They want to automate the process of approving or revoking access to a resource according to their role in the company.\n",
    "\n",
    "## Your Role\n",
    "You are given a dataset containing the ACTION (ground truth), RESOURCE, and information about the employee's role at the time of approval.\n",
    "The model will take an employee's role information and the requested resource in the form of a resource code and will determine if an employee should be given access or not.\n",
    "Your task is to build a binary-class classification model using the dataset.\n",
    "Because there was no machine learning model for this problem in the company, you don’t have a quantifiable win condition. You need to build the best possible model.\n",
    "\n",
    "## Project Deliverables\n",
    "Deliverable: Employee Access Classification.\n",
    "Machine Learning Task: **Classification**\n",
    "Target Variable: **ACTION**\n",
    "Win Condition: N/A (best possible model)\n",
    "\n",
    "## Evaluation Metric\n",
    "The model evaluation will be based on the **Accuracy Score**"
   ]
  },
  {
   "cell_type": "markdown",
   "metadata": {},
   "source": [
    "The dataset contains all the necessary information about an Employee like their ID and roles in the company, their Manager’s ID, RESOURCE id, and the ACTION.\n",
    "\n",
    "The data consists of real historical data collected from 2010 & 2011. Employees are manually allowed or denied access to resources over time.\n",
    "\n",
    "This is the data that we have to predict for future samples.\n",
    "\n",
    "\n",
    "The dataset is divided into two parts: Train, and Test sets.\n",
    "\n",
    "## Train Set:\n",
    "The train set contains **24576 rows and 11columns.**\n",
    "The last column ACTION is the target variable.\n",
    "\n",
    "## Test Set:\n",
    "The test set contains **8193 rows and 10 columns.**\n",
    "The test set doesn’t contain the ACTION column.\n",
    "It needs to be predicted for the test set.\n",
    "\n",
    "## Dataset Feature Description\n",
    "\n",
    "|Id|Feature|Description|\n",
    "|:--|:--|:--|\n",
    "|01|RESOURCE| An ID for each resource.|\n",
    "|02|MGR_ID|The EMPLOYEE ID of the manager of the current EMPLOYEE ID record; an employee may have only one manager at a time.|\n",
    "|03|ROLE_ROLLUP_1| Company role grouping category id 1 (e.g. US Engineering).|\n",
    "|04|ROLE_ROLLUP_2| Company role grouping category id 2 (e.g. US Retail).|\n",
    "|05|ROLE_DEPTNAME| Company role department description (e.g. Retail).|\n",
    "|06|ROLE_TITLE| Company role business title description (e.g. Senior Engineering Retail Manager)|\n",
    "|07|ROLE_FAMILY_DESC| Company role family extended description (e.g. Retail Manager, Software Engineering) |\n",
    "|08|ROLE_FAMILY| Company role family description (e.g. Retail Manager).|\n",
    "|09|ROLE_CODE| Company role code; this code is unique to each role (e.g. Manager)|\n",
    "|10|ID| ID of the Employee|\n",
    "|11|ACTION| ACTION is 1 if the resource was approved, 0 if the resource was no.|\n"
   ]
  },
  {
   "cell_type": "markdown",
   "metadata": {},
   "source": [
    "# Importing Libraries"
   ]
  },
  {
   "cell_type": "code",
   "execution_count": 1,
   "metadata": {},
   "outputs": [],
   "source": [
    "import numpy as np\n",
    "import pandas as pd\n",
    "import matplotlib\n",
    "import matplotlib.pyplot as plt\n",
    "import seaborn as sns\n",
    "%matplotlib inline\n",
    "import warnings\n",
    "warnings.filterwarnings('ignore')\n",
    "warnings.warn(\"this will not show\")"
   ]
  },
  {
   "cell_type": "markdown",
   "metadata": {},
   "source": [
    "# Knowing the Dataset"
   ]
  },
  {
   "cell_type": "code",
   "execution_count": 2,
   "metadata": {},
   "outputs": [],
   "source": [
    "data = pd.read_csv(r'C:\\Users\\Mugdha\\Music\\GCDAI_9th May 2021\\Employer access prediction/ea_train.csv') "
   ]
  },
  {
   "cell_type": "code",
   "execution_count": 3,
   "metadata": {},
   "outputs": [
    {
     "name": "stdout",
     "output_type": "stream",
     "text": [
      "<class 'pandas.core.frame.DataFrame'>\n",
      "RangeIndex: 24576 entries, 0 to 24575\n",
      "Data columns (total 11 columns):\n",
      " #   Column            Non-Null Count  Dtype\n",
      "---  ------            --------------  -----\n",
      " 0   RESOURCE          24576 non-null  int64\n",
      " 1   MGR_ID            24576 non-null  int64\n",
      " 2   ROLE_ROLLUP_1     24576 non-null  int64\n",
      " 3   ROLE_ROLLUP_2     24576 non-null  int64\n",
      " 4   ROLE_DEPTNAME     24576 non-null  int64\n",
      " 5   ROLE_TITLE        24576 non-null  int64\n",
      " 6   ROLE_FAMILY_DESC  24576 non-null  int64\n",
      " 7   ROLE_FAMILY       24576 non-null  int64\n",
      " 8   ROLE_CODE         24576 non-null  int64\n",
      " 9   ID                24576 non-null  int64\n",
      " 10  ACTION            24576 non-null  int64\n",
      "dtypes: int64(11)\n",
      "memory usage: 2.1 MB\n"
     ]
    }
   ],
   "source": [
    "data.info()"
   ]
  },
  {
   "cell_type": "code",
   "execution_count": 4,
   "metadata": {},
   "outputs": [
    {
     "name": "stdout",
     "output_type": "stream",
     "text": [
      "Shape of the given dataset:  (24576, 11)\n"
     ]
    },
    {
     "data": {
      "text/html": [
       "<div>\n",
       "<style scoped>\n",
       "    .dataframe tbody tr th:only-of-type {\n",
       "        vertical-align: middle;\n",
       "    }\n",
       "\n",
       "    .dataframe tbody tr th {\n",
       "        vertical-align: top;\n",
       "    }\n",
       "\n",
       "    .dataframe thead th {\n",
       "        text-align: right;\n",
       "    }\n",
       "</style>\n",
       "<table border=\"1\" class=\"dataframe\">\n",
       "  <thead>\n",
       "    <tr style=\"text-align: right;\">\n",
       "      <th></th>\n",
       "      <th>RESOURCE</th>\n",
       "      <th>MGR_ID</th>\n",
       "      <th>ROLE_ROLLUP_1</th>\n",
       "      <th>ROLE_ROLLUP_2</th>\n",
       "      <th>ROLE_DEPTNAME</th>\n",
       "      <th>ROLE_TITLE</th>\n",
       "      <th>ROLE_FAMILY_DESC</th>\n",
       "      <th>ROLE_FAMILY</th>\n",
       "      <th>ROLE_CODE</th>\n",
       "      <th>ID</th>\n",
       "      <th>ACTION</th>\n",
       "    </tr>\n",
       "  </thead>\n",
       "  <tbody>\n",
       "    <tr>\n",
       "      <th>0</th>\n",
       "      <td>75078</td>\n",
       "      <td>255037</td>\n",
       "      <td>118315</td>\n",
       "      <td>118316</td>\n",
       "      <td>118202</td>\n",
       "      <td>118784</td>\n",
       "      <td>262095</td>\n",
       "      <td>290919</td>\n",
       "      <td>118786</td>\n",
       "      <td>2270</td>\n",
       "      <td>1</td>\n",
       "    </tr>\n",
       "    <tr>\n",
       "      <th>1</th>\n",
       "      <td>79323</td>\n",
       "      <td>3120</td>\n",
       "      <td>117961</td>\n",
       "      <td>118300</td>\n",
       "      <td>120312</td>\n",
       "      <td>120313</td>\n",
       "      <td>120314</td>\n",
       "      <td>118424</td>\n",
       "      <td>120315</td>\n",
       "      <td>696</td>\n",
       "      <td>1</td>\n",
       "    </tr>\n",
       "    <tr>\n",
       "      <th>2</th>\n",
       "      <td>34958</td>\n",
       "      <td>8243</td>\n",
       "      <td>118555</td>\n",
       "      <td>118178</td>\n",
       "      <td>118320</td>\n",
       "      <td>117905</td>\n",
       "      <td>117906</td>\n",
       "      <td>290919</td>\n",
       "      <td>117908</td>\n",
       "      <td>13514</td>\n",
       "      <td>1</td>\n",
       "    </tr>\n",
       "    <tr>\n",
       "      <th>3</th>\n",
       "      <td>39371</td>\n",
       "      <td>7520</td>\n",
       "      <td>117961</td>\n",
       "      <td>118343</td>\n",
       "      <td>124725</td>\n",
       "      <td>117905</td>\n",
       "      <td>240983</td>\n",
       "      <td>290919</td>\n",
       "      <td>117908</td>\n",
       "      <td>13400</td>\n",
       "      <td>1</td>\n",
       "    </tr>\n",
       "    <tr>\n",
       "      <th>4</th>\n",
       "      <td>39330</td>\n",
       "      <td>17290</td>\n",
       "      <td>117961</td>\n",
       "      <td>118386</td>\n",
       "      <td>118522</td>\n",
       "      <td>117905</td>\n",
       "      <td>117906</td>\n",
       "      <td>290919</td>\n",
       "      <td>117908</td>\n",
       "      <td>6703</td>\n",
       "      <td>1</td>\n",
       "    </tr>\n",
       "  </tbody>\n",
       "</table>\n",
       "</div>"
      ],
      "text/plain": [
       "   RESOURCE  MGR_ID  ROLE_ROLLUP_1  ROLE_ROLLUP_2  ROLE_DEPTNAME  ROLE_TITLE  \\\n",
       "0     75078  255037         118315         118316         118202      118784   \n",
       "1     79323    3120         117961         118300         120312      120313   \n",
       "2     34958    8243         118555         118178         118320      117905   \n",
       "3     39371    7520         117961         118343         124725      117905   \n",
       "4     39330   17290         117961         118386         118522      117905   \n",
       "\n",
       "   ROLE_FAMILY_DESC  ROLE_FAMILY  ROLE_CODE     ID  ACTION  \n",
       "0            262095       290919     118786   2270       1  \n",
       "1            120314       118424     120315    696       1  \n",
       "2            117906       290919     117908  13514       1  \n",
       "3            240983       290919     117908  13400       1  \n",
       "4            117906       290919     117908   6703       1  "
      ]
     },
     "execution_count": 4,
     "metadata": {},
     "output_type": "execute_result"
    }
   ],
   "source": [
    "print('Shape of the given dataset: ', data.shape)\n",
    "data.head()"
   ]
  },
  {
   "cell_type": "code",
   "execution_count": 5,
   "metadata": {},
   "outputs": [
    {
     "data": {
      "text/html": [
       "<div>\n",
       "<style scoped>\n",
       "    .dataframe tbody tr th:only-of-type {\n",
       "        vertical-align: middle;\n",
       "    }\n",
       "\n",
       "    .dataframe tbody tr th {\n",
       "        vertical-align: top;\n",
       "    }\n",
       "\n",
       "    .dataframe thead th {\n",
       "        text-align: right;\n",
       "    }\n",
       "</style>\n",
       "<table border=\"1\" class=\"dataframe\">\n",
       "  <thead>\n",
       "    <tr style=\"text-align: right;\">\n",
       "      <th></th>\n",
       "      <th>RESOURCE</th>\n",
       "      <th>MGR_ID</th>\n",
       "      <th>ROLE_ROLLUP_1</th>\n",
       "      <th>ROLE_ROLLUP_2</th>\n",
       "      <th>ROLE_DEPTNAME</th>\n",
       "      <th>ROLE_TITLE</th>\n",
       "      <th>ROLE_FAMILY_DESC</th>\n",
       "      <th>ROLE_FAMILY</th>\n",
       "      <th>ROLE_CODE</th>\n",
       "      <th>ID</th>\n",
       "      <th>ACTION</th>\n",
       "    </tr>\n",
       "  </thead>\n",
       "  <tbody>\n",
       "    <tr>\n",
       "      <th>count</th>\n",
       "      <td>24576.000000</td>\n",
       "      <td>24576.000000</td>\n",
       "      <td>24576.000000</td>\n",
       "      <td>24576.000000</td>\n",
       "      <td>24576.000000</td>\n",
       "      <td>24576.000000</td>\n",
       "      <td>24576.000000</td>\n",
       "      <td>24576.000000</td>\n",
       "      <td>24576.000000</td>\n",
       "      <td>24576.000000</td>\n",
       "      <td>24576.000000</td>\n",
       "    </tr>\n",
       "    <tr>\n",
       "      <th>mean</th>\n",
       "      <td>42881.130371</td>\n",
       "      <td>25893.693278</td>\n",
       "      <td>116955.370443</td>\n",
       "      <td>118260.892741</td>\n",
       "      <td>118854.659098</td>\n",
       "      <td>125661.492594</td>\n",
       "      <td>169860.284505</td>\n",
       "      <td>183598.044556</td>\n",
       "      <td>119765.312378</td>\n",
       "      <td>16367.649292</td>\n",
       "      <td>0.941895</td>\n",
       "    </tr>\n",
       "    <tr>\n",
       "      <th>std</th>\n",
       "      <td>34262.362668</td>\n",
       "      <td>35746.796709</td>\n",
       "      <td>10950.867471</td>\n",
       "      <td>4841.345712</td>\n",
       "      <td>18639.574571</td>\n",
       "      <td>30491.343035</td>\n",
       "      <td>69329.221486</td>\n",
       "      <td>100563.091506</td>\n",
       "      <td>5559.507074</td>\n",
       "      <td>9464.173852</td>\n",
       "      <td>0.233948</td>\n",
       "    </tr>\n",
       "    <tr>\n",
       "      <th>min</th>\n",
       "      <td>0.000000</td>\n",
       "      <td>25.000000</td>\n",
       "      <td>4292.000000</td>\n",
       "      <td>23779.000000</td>\n",
       "      <td>4674.000000</td>\n",
       "      <td>117879.000000</td>\n",
       "      <td>4673.000000</td>\n",
       "      <td>3130.000000</td>\n",
       "      <td>117880.000000</td>\n",
       "      <td>0.000000</td>\n",
       "      <td>0.000000</td>\n",
       "    </tr>\n",
       "    <tr>\n",
       "      <th>25%</th>\n",
       "      <td>20299.000000</td>\n",
       "      <td>4564.000000</td>\n",
       "      <td>117961.000000</td>\n",
       "      <td>118102.000000</td>\n",
       "      <td>118391.000000</td>\n",
       "      <td>118274.000000</td>\n",
       "      <td>117906.000000</td>\n",
       "      <td>118363.000000</td>\n",
       "      <td>118209.000000</td>\n",
       "      <td>8149.750000</td>\n",
       "      <td>1.000000</td>\n",
       "    </tr>\n",
       "    <tr>\n",
       "      <th>50%</th>\n",
       "      <td>35210.000000</td>\n",
       "      <td>13441.000000</td>\n",
       "      <td>117961.000000</td>\n",
       "      <td>118300.000000</td>\n",
       "      <td>118910.000000</td>\n",
       "      <td>118568.000000</td>\n",
       "      <td>128628.000000</td>\n",
       "      <td>119095.000000</td>\n",
       "      <td>118570.000000</td>\n",
       "      <td>16403.500000</td>\n",
       "      <td>1.000000</td>\n",
       "    </tr>\n",
       "    <tr>\n",
       "      <th>75%</th>\n",
       "      <td>74189.250000</td>\n",
       "      <td>41786.000000</td>\n",
       "      <td>117961.000000</td>\n",
       "      <td>118386.000000</td>\n",
       "      <td>120428.000000</td>\n",
       "      <td>120006.000000</td>\n",
       "      <td>233714.000000</td>\n",
       "      <td>290919.000000</td>\n",
       "      <td>119353.000000</td>\n",
       "      <td>24524.250000</td>\n",
       "      <td>1.000000</td>\n",
       "    </tr>\n",
       "    <tr>\n",
       "      <th>max</th>\n",
       "      <td>312153.000000</td>\n",
       "      <td>311696.000000</td>\n",
       "      <td>311178.000000</td>\n",
       "      <td>286791.000000</td>\n",
       "      <td>286792.000000</td>\n",
       "      <td>311867.000000</td>\n",
       "      <td>311867.000000</td>\n",
       "      <td>308574.000000</td>\n",
       "      <td>270691.000000</td>\n",
       "      <td>32768.000000</td>\n",
       "      <td>1.000000</td>\n",
       "    </tr>\n",
       "  </tbody>\n",
       "</table>\n",
       "</div>"
      ],
      "text/plain": [
       "            RESOURCE         MGR_ID  ROLE_ROLLUP_1  ROLE_ROLLUP_2  \\\n",
       "count   24576.000000   24576.000000   24576.000000   24576.000000   \n",
       "mean    42881.130371   25893.693278  116955.370443  118260.892741   \n",
       "std     34262.362668   35746.796709   10950.867471    4841.345712   \n",
       "min         0.000000      25.000000    4292.000000   23779.000000   \n",
       "25%     20299.000000    4564.000000  117961.000000  118102.000000   \n",
       "50%     35210.000000   13441.000000  117961.000000  118300.000000   \n",
       "75%     74189.250000   41786.000000  117961.000000  118386.000000   \n",
       "max    312153.000000  311696.000000  311178.000000  286791.000000   \n",
       "\n",
       "       ROLE_DEPTNAME     ROLE_TITLE  ROLE_FAMILY_DESC    ROLE_FAMILY  \\\n",
       "count   24576.000000   24576.000000      24576.000000   24576.000000   \n",
       "mean   118854.659098  125661.492594     169860.284505  183598.044556   \n",
       "std     18639.574571   30491.343035      69329.221486  100563.091506   \n",
       "min      4674.000000  117879.000000       4673.000000    3130.000000   \n",
       "25%    118391.000000  118274.000000     117906.000000  118363.000000   \n",
       "50%    118910.000000  118568.000000     128628.000000  119095.000000   \n",
       "75%    120428.000000  120006.000000     233714.000000  290919.000000   \n",
       "max    286792.000000  311867.000000     311867.000000  308574.000000   \n",
       "\n",
       "           ROLE_CODE            ID        ACTION  \n",
       "count   24576.000000  24576.000000  24576.000000  \n",
       "mean   119765.312378  16367.649292      0.941895  \n",
       "std      5559.507074   9464.173852      0.233948  \n",
       "min    117880.000000      0.000000      0.000000  \n",
       "25%    118209.000000   8149.750000      1.000000  \n",
       "50%    118570.000000  16403.500000      1.000000  \n",
       "75%    119353.000000  24524.250000      1.000000  \n",
       "max    270691.000000  32768.000000      1.000000  "
      ]
     },
     "execution_count": 5,
     "metadata": {},
     "output_type": "execute_result"
    }
   ],
   "source": [
    "data.describe()"
   ]
  },
  {
   "cell_type": "code",
   "execution_count": 6,
   "metadata": {},
   "outputs": [
    {
     "data": {
      "text/plain": [
       "RESOURCE            0\n",
       "MGR_ID              0\n",
       "ROLE_ROLLUP_1       0\n",
       "ROLE_ROLLUP_2       0\n",
       "ROLE_DEPTNAME       0\n",
       "ROLE_TITLE          0\n",
       "ROLE_FAMILY_DESC    0\n",
       "ROLE_FAMILY         0\n",
       "ROLE_CODE           0\n",
       "ID                  0\n",
       "ACTION              0\n",
       "dtype: int64"
      ]
     },
     "execution_count": 6,
     "metadata": {},
     "output_type": "execute_result"
    }
   ],
   "source": [
    "data.isnull().sum()                        # Checking missing values"
   ]
  },
  {
   "cell_type": "code",
   "execution_count": 7,
   "metadata": {},
   "outputs": [
    {
     "name": "stdout",
     "output_type": "stream",
     "text": [
      "Duplicated values in the trained dataset:  False\n"
     ]
    }
   ],
   "source": [
    "print('Duplicated values in the trained dataset: ', data.duplicated().any())      # Check Duplicated values"
   ]
  },
  {
   "cell_type": "code",
   "execution_count": 8,
   "metadata": {},
   "outputs": [
    {
     "data": {
      "text/plain": [
       "<AxesSubplot:>"
      ]
     },
     "execution_count": 8,
     "metadata": {},
     "output_type": "execute_result"
    },
    {
     "data": {
      "image/png": "[encoded data removed]",
      "text/plain": [
       "<Figure size 864x504 with 2 Axes>"
      ]
     },
     "metadata": {
      "needs_background": "light"
     },
     "output_type": "display_data"
    }
   ],
   "source": [
    "data.corr()\n",
    "\n",
    "figure = plt.figure(figsize = (12,7))\n",
    "sns.heatmap(data = data.corr(), annot = True, cmap = 'Set2',vmin = 0, vmax = 1,linecolor = 'black',linewidths = 1)"
   ]
  },
  {
   "cell_type": "code",
   "execution_count": 9,
   "metadata": {},
   "outputs": [
    {
     "data": {
      "text/plain": [
       "<AxesSubplot:xlabel='ACTION', ylabel='Density'>"
      ]
     },
     "execution_count": 9,
     "metadata": {},
     "output_type": "execute_result"
    },
    {
     "data": {
      "image/png": "[encoded data removed]",
      "text/plain": [
       "<Figure size 432x288 with 1 Axes>"
      ]
     },
     "metadata": {
      "needs_background": "light"
     },
     "output_type": "display_data"
    }
   ],
   "source": [
    "sns.distplot(data['ACTION'], kde = True)"
   ]
  },
  {
   "cell_type": "code",
   "execution_count": 10,
   "metadata": {},
   "outputs": [
    {
     "data": {
      "text/plain": [
       "0    290919\n",
       "dtype: int64"
      ]
     },
     "execution_count": 10,
     "metadata": {},
     "output_type": "execute_result"
    }
   ],
   "source": [
    "data['ROLE_FAMILY'].mode()"
   ]
  },
  {
   "cell_type": "code",
   "execution_count": 11,
   "metadata": {},
   "outputs": [
    {
     "data": {
      "text/plain": [
       "440"
      ]
     },
     "execution_count": 11,
     "metadata": {},
     "output_type": "execute_result"
    }
   ],
   "source": [
    "data['ROLE_DEPTNAME'].nunique()"
   ]
  },
  {
   "cell_type": "code",
   "execution_count": 12,
   "metadata": {},
   "outputs": [
    {
     "data": {
      "text/plain": [
       "<AxesSubplot:xlabel='ACTION', ylabel='count'>"
      ]
     },
     "execution_count": 12,
     "metadata": {},
     "output_type": "execute_result"
    },
    {
     "data": {
      "image/png": "[encoded data removed]",
      "text/plain": [
       "<Figure size 432x288 with 1 Axes>"
      ]
     },
     "metadata": {
      "needs_background": "light"
     },
     "output_type": "display_data"
    }
   ],
   "source": [
    "sns.countplot(data['ACTION'])"
   ]
  },
  {
   "cell_type": "code",
   "execution_count": 13,
   "metadata": {},
   "outputs": [],
   "source": [
    "data_features = data.drop(['ACTION'], axis = 1)\n",
    "data_target = data['ACTION']"
   ]
  },
  {
   "cell_type": "code",
   "execution_count": 14,
   "metadata": {},
   "outputs": [
    {
     "name": "stdout",
     "output_type": "stream",
     "text": [
      "Shape of Train data_features:  (24576, 10)\n",
      "Shape of Train data_target:  (24576,)\n"
     ]
    }
   ],
   "source": [
    "print('Shape of Train data_features: ',data_features.shape)\n",
    "print('Shape of Train data_target: ',data_target.shape)"
   ]
  },
  {
   "cell_type": "code",
   "execution_count": 15,
   "metadata": {},
   "outputs": [],
   "source": [
    "from sklearn.model_selection import train_test_split"
   ]
  },
  {
   "cell_type": "code",
   "execution_count": 16,
   "metadata": {},
   "outputs": [],
   "source": [
    "X_train, X_test, y_train, y_test = train_test_split(data_features, data_target, test_size = 0.2, random_state = 4)"
   ]
  },
  {
   "cell_type": "code",
   "execution_count": 17,
   "metadata": {},
   "outputs": [
    {
     "name": "stdout",
     "output_type": "stream",
     "text": [
      "Shape of x train:  (19660, 10)\n",
      "Shape of x test:  (4916, 10)\n",
      "Shape of y train:  (19660,)\n",
      "Shape of y test:  (4916,)\n"
     ]
    }
   ],
   "source": [
    "print('Shape of x train: ', X_train.shape)\n",
    "print('Shape of x test: ', X_test.shape)\n",
    "print('Shape of y train: ', y_train.shape)\n",
    "print('Shape of y test: ', y_test.shape)"
   ]
  },
  {
   "cell_type": "code",
   "execution_count": 18,
   "metadata": {},
   "outputs": [],
   "source": [
    "from sklearn.preprocessing import StandardScaler\n",
    "sc = StandardScaler()"
   ]
  },
  {
   "cell_type": "code",
   "execution_count": 19,
   "metadata": {},
   "outputs": [
    {
     "data": {
      "text/plain": [
       "Index(['RESOURCE', 'MGR_ID', 'ROLE_ROLLUP_1', 'ROLE_ROLLUP_2', 'ROLE_DEPTNAME',\n",
       "       'ROLE_TITLE', 'ROLE_FAMILY_DESC', 'ROLE_FAMILY', 'ROLE_CODE', 'ID'],\n",
       "      dtype='object')"
      ]
     },
     "execution_count": 19,
     "metadata": {},
     "output_type": "execute_result"
    }
   ],
   "source": [
    "data_features.columns"
   ]
  },
  {
   "cell_type": "code",
   "execution_count": 20,
   "metadata": {},
   "outputs": [
    {
     "data": {
      "text/plain": [
       "Index(['RESOURCE', 'MGR_ID', 'ROLE_ROLLUP_1', 'ROLE_ROLLUP_2', 'ROLE_DEPTNAME',\n",
       "       'ROLE_TITLE', 'ROLE_FAMILY_DESC', 'ROLE_FAMILY', 'ROLE_CODE'],\n",
       "      dtype='object')"
      ]
     },
     "execution_count": 20,
     "metadata": {},
     "output_type": "execute_result"
    }
   ],
   "source": [
    "numeric_features = X_train[['RESOURCE', 'MGR_ID', 'ROLE_ROLLUP_1', 'ROLE_ROLLUP_2', 'ROLE_DEPTNAME',\n",
    "       'ROLE_TITLE', 'ROLE_FAMILY_DESC', 'ROLE_FAMILY', 'ROLE_CODE']].columns\n",
    "numeric_features"
   ]
  },
  {
   "cell_type": "code",
   "execution_count": 21,
   "metadata": {},
   "outputs": [],
   "source": [
    "X_train[numeric_features] = sc.fit_transform(X_train[numeric_features])"
   ]
  },
  {
   "cell_type": "code",
   "execution_count": 22,
   "metadata": {},
   "outputs": [],
   "source": [
    "X_test[numeric_features] = sc.transform(X_test[numeric_features])"
   ]
  },
  {
   "cell_type": "code",
   "execution_count": 23,
   "metadata": {},
   "outputs": [
    {
     "data": {
      "text/html": [
       "<div>\n",
       "<style scoped>\n",
       "    .dataframe tbody tr th:only-of-type {\n",
       "        vertical-align: middle;\n",
       "    }\n",
       "\n",
       "    .dataframe tbody tr th {\n",
       "        vertical-align: top;\n",
       "    }\n",
       "\n",
       "    .dataframe thead th {\n",
       "        text-align: right;\n",
       "    }\n",
       "</style>\n",
       "<table border=\"1\" class=\"dataframe\">\n",
       "  <thead>\n",
       "    <tr style=\"text-align: right;\">\n",
       "      <th></th>\n",
       "      <th>RESOURCE</th>\n",
       "      <th>MGR_ID</th>\n",
       "      <th>ROLE_ROLLUP_1</th>\n",
       "      <th>ROLE_ROLLUP_2</th>\n",
       "      <th>ROLE_DEPTNAME</th>\n",
       "      <th>ROLE_TITLE</th>\n",
       "      <th>ROLE_FAMILY_DESC</th>\n",
       "      <th>ROLE_FAMILY</th>\n",
       "      <th>ROLE_CODE</th>\n",
       "      <th>ID</th>\n",
       "    </tr>\n",
       "  </thead>\n",
       "  <tbody>\n",
       "    <tr>\n",
       "      <th>7077</th>\n",
       "      <td>-0.515146</td>\n",
       "      <td>-0.582837</td>\n",
       "      <td>0.092529</td>\n",
       "      <td>0.003595</td>\n",
       "      <td>-0.023106</td>\n",
       "      <td>-0.186777</td>\n",
       "      <td>2.025845</td>\n",
       "      <td>-0.648179</td>\n",
       "      <td>0.039446</td>\n",
       "      <td>3459</td>\n",
       "    </tr>\n",
       "    <tr>\n",
       "      <th>24422</th>\n",
       "      <td>-0.646614</td>\n",
       "      <td>0.835047</td>\n",
       "      <td>0.088496</td>\n",
       "      <td>-0.027923</td>\n",
       "      <td>0.681834</td>\n",
       "      <td>0.076471</td>\n",
       "      <td>-0.445311</td>\n",
       "      <td>-0.640613</td>\n",
       "      <td>1.456288</td>\n",
       "      <td>5892</td>\n",
       "    </tr>\n",
       "    <tr>\n",
       "      <th>7919</th>\n",
       "      <td>-0.777733</td>\n",
       "      <td>-0.717975</td>\n",
       "      <td>0.092529</td>\n",
       "      <td>0.027338</td>\n",
       "      <td>0.077405</td>\n",
       "      <td>-0.241627</td>\n",
       "      <td>-0.285673</td>\n",
       "      <td>1.068967</td>\n",
       "      <td>-0.255941</td>\n",
       "      <td>23772</td>\n",
       "    </tr>\n",
       "    <tr>\n",
       "      <th>13813</th>\n",
       "      <td>-0.616822</td>\n",
       "      <td>0.926970</td>\n",
       "      <td>0.092529</td>\n",
       "      <td>0.009268</td>\n",
       "      <td>-0.026628</td>\n",
       "      <td>-0.226556</td>\n",
       "      <td>-0.752642</td>\n",
       "      <td>1.068967</td>\n",
       "      <td>-0.174648</td>\n",
       "      <td>23750</td>\n",
       "    </tr>\n",
       "    <tr>\n",
       "      <th>13275</th>\n",
       "      <td>-0.748347</td>\n",
       "      <td>-0.005908</td>\n",
       "      <td>0.092529</td>\n",
       "      <td>0.012629</td>\n",
       "      <td>0.073252</td>\n",
       "      <td>-0.186777</td>\n",
       "      <td>-0.585162</td>\n",
       "      <td>-0.648179</td>\n",
       "      <td>0.039446</td>\n",
       "      <td>2317</td>\n",
       "    </tr>\n",
       "  </tbody>\n",
       "</table>\n",
       "</div>"
      ],
      "text/plain": [
       "       RESOURCE    MGR_ID  ROLE_ROLLUP_1  ROLE_ROLLUP_2  ROLE_DEPTNAME  \\\n",
       "7077  -0.515146 -0.582837       0.092529       0.003595      -0.023106   \n",
       "24422 -0.646614  0.835047       0.088496      -0.027923       0.681834   \n",
       "7919  -0.777733 -0.717975       0.092529       0.027338       0.077405   \n",
       "13813 -0.616822  0.926970       0.092529       0.009268      -0.026628   \n",
       "13275 -0.748347 -0.005908       0.092529       0.012629       0.073252   \n",
       "\n",
       "       ROLE_TITLE  ROLE_FAMILY_DESC  ROLE_FAMILY  ROLE_CODE     ID  \n",
       "7077    -0.186777          2.025845    -0.648179   0.039446   3459  \n",
       "24422    0.076471         -0.445311    -0.640613   1.456288   5892  \n",
       "7919    -0.241627         -0.285673     1.068967  -0.255941  23772  \n",
       "13813   -0.226556         -0.752642     1.068967  -0.174648  23750  \n",
       "13275   -0.186777         -0.585162    -0.648179   0.039446   2317  "
      ]
     },
     "execution_count": 23,
     "metadata": {},
     "output_type": "execute_result"
    }
   ],
   "source": [
    "X_train.head()"
   ]
  },
  {
   "cell_type": "code",
   "execution_count": 24,
   "metadata": {},
   "outputs": [
    {
     "data": {
      "text/html": [
       "<div>\n",
       "<style scoped>\n",
       "    .dataframe tbody tr th:only-of-type {\n",
       "        vertical-align: middle;\n",
       "    }\n",
       "\n",
       "    .dataframe tbody tr th {\n",
       "        vertical-align: top;\n",
       "    }\n",
       "\n",
       "    .dataframe thead th {\n",
       "        text-align: right;\n",
       "    }\n",
       "</style>\n",
       "<table border=\"1\" class=\"dataframe\">\n",
       "  <thead>\n",
       "    <tr style=\"text-align: right;\">\n",
       "      <th></th>\n",
       "      <th>RESOURCE</th>\n",
       "      <th>MGR_ID</th>\n",
       "      <th>ROLE_ROLLUP_1</th>\n",
       "      <th>ROLE_ROLLUP_2</th>\n",
       "      <th>ROLE_DEPTNAME</th>\n",
       "      <th>ROLE_TITLE</th>\n",
       "      <th>ROLE_FAMILY_DESC</th>\n",
       "      <th>ROLE_FAMILY</th>\n",
       "      <th>ROLE_CODE</th>\n",
       "      <th>ID</th>\n",
       "    </tr>\n",
       "  </thead>\n",
       "  <tbody>\n",
       "    <tr>\n",
       "      <th>8705</th>\n",
       "      <td>-0.406102</td>\n",
       "      <td>-0.585388</td>\n",
       "      <td>0.092529</td>\n",
       "      <td>0.012629</td>\n",
       "      <td>0.064578</td>\n",
       "      <td>-0.069297</td>\n",
       "      <td>-0.525575</td>\n",
       "      <td>-0.648179</td>\n",
       "      <td>0.671743</td>\n",
       "      <td>11668</td>\n",
       "    </tr>\n",
       "    <tr>\n",
       "      <th>1983</th>\n",
       "      <td>-0.131767</td>\n",
       "      <td>0.900907</td>\n",
       "      <td>0.112608</td>\n",
       "      <td>-18.337308</td>\n",
       "      <td>-0.053280</td>\n",
       "      <td>-0.255820</td>\n",
       "      <td>-0.752541</td>\n",
       "      <td>-0.653524</td>\n",
       "      <td>-0.331977</td>\n",
       "      <td>11291</td>\n",
       "    </tr>\n",
       "    <tr>\n",
       "      <th>18923</th>\n",
       "      <td>-1.047282</td>\n",
       "      <td>-0.005880</td>\n",
       "      <td>0.092529</td>\n",
       "      <td>0.012629</td>\n",
       "      <td>0.073252</td>\n",
       "      <td>-0.170794</td>\n",
       "      <td>0.929018</td>\n",
       "      <td>-0.648179</td>\n",
       "      <td>0.125470</td>\n",
       "      <td>4138</td>\n",
       "    </tr>\n",
       "    <tr>\n",
       "      <th>12197</th>\n",
       "      <td>-0.289197</td>\n",
       "      <td>-0.147969</td>\n",
       "      <td>0.084910</td>\n",
       "      <td>-0.085284</td>\n",
       "      <td>-0.053595</td>\n",
       "      <td>-0.256015</td>\n",
       "      <td>-0.753031</td>\n",
       "      <td>-1.630743</td>\n",
       "      <td>-0.333379</td>\n",
       "      <td>9781</td>\n",
       "    </tr>\n",
       "    <tr>\n",
       "      <th>22869</th>\n",
       "      <td>1.061535</td>\n",
       "      <td>-0.256202</td>\n",
       "      <td>0.092529</td>\n",
       "      <td>0.003595</td>\n",
       "      <td>-0.015799</td>\n",
       "      <td>-0.220175</td>\n",
       "      <td>1.889677</td>\n",
       "      <td>-0.649463</td>\n",
       "      <td>-0.140309</td>\n",
       "      <td>17216</td>\n",
       "    </tr>\n",
       "  </tbody>\n",
       "</table>\n",
       "</div>"
      ],
      "text/plain": [
       "       RESOURCE    MGR_ID  ROLE_ROLLUP_1  ROLE_ROLLUP_2  ROLE_DEPTNAME  \\\n",
       "8705  -0.406102 -0.585388       0.092529       0.012629       0.064578   \n",
       "1983  -0.131767  0.900907       0.112608     -18.337308      -0.053280   \n",
       "18923 -1.047282 -0.005880       0.092529       0.012629       0.073252   \n",
       "12197 -0.289197 -0.147969       0.084910      -0.085284      -0.053595   \n",
       "22869  1.061535 -0.256202       0.092529       0.003595      -0.015799   \n",
       "\n",
       "       ROLE_TITLE  ROLE_FAMILY_DESC  ROLE_FAMILY  ROLE_CODE     ID  \n",
       "8705    -0.069297         -0.525575    -0.648179   0.671743  11668  \n",
       "1983    -0.255820         -0.752541    -0.653524  -0.331977  11291  \n",
       "18923   -0.170794          0.929018    -0.648179   0.125470   4138  \n",
       "12197   -0.256015         -0.753031    -1.630743  -0.333379   9781  \n",
       "22869   -0.220175          1.889677    -0.649463  -0.140309  17216  "
      ]
     },
     "execution_count": 24,
     "metadata": {},
     "output_type": "execute_result"
    }
   ],
   "source": [
    "X_test.head()"
   ]
  },
  {
   "cell_type": "code",
   "execution_count": 25,
   "metadata": {},
   "outputs": [],
   "source": [
    "from sklearn.linear_model import LogisticRegression\n",
    "from sklearn.ensemble import RandomForestClassifier, GradientBoostingClassifier, ExtraTreesClassifier, AdaBoostClassifier\n",
    "from sklearn.tree import DecisionTreeClassifier\n",
    "from sklearn.neighbors import KNeighborsClassifier\n",
    "from sklearn.svm import SVR, SVC\n",
    "from xgboost import XGBClassifier"
   ]
  },
  {
   "cell_type": "code",
   "execution_count": 26,
   "metadata": {},
   "outputs": [],
   "source": [
    "lr= LogisticRegression()\n",
    "d_tree = DecisionTreeClassifier(max_leaf_nodes=10, max_features= \"sqrt\", max_depth=12, min_samples_split=5, min_samples_leaf=4)\n",
    "rfc= RandomForestClassifier(n_estimators = 20, random_state = 4)\n",
    "knn = KNeighborsClassifier(n_neighbors = 3)\n",
    "svc = SVC(random_state=101)\n",
    "xgb = XGBClassifier(random_state=101)\n",
    "ab = AdaBoostClassifier(n_estimators=50, random_state=101)\n",
    "gb = GradientBoostingClassifier(random_state=101)"
   ]
  },
  {
   "cell_type": "code",
   "execution_count": 27,
   "metadata": {},
   "outputs": [
    {
     "name": "stdout",
     "output_type": "stream",
     "text": [
      "Logistic Regression:  LogisticRegression()\n",
      "Decision Tree:  DecisionTreeClassifier(max_depth=12, max_features='sqrt', max_leaf_nodes=10,\n",
      "                       min_samples_leaf=4, min_samples_split=5)\n",
      "Random Forest:  RandomForestClassifier(n_estimators=20, random_state=4)\n",
      "KNN:  KNeighborsClassifier(n_neighbors=3)\n",
      "SVC:  SVC(random_state=101)\n",
      "[15:27:30] WARNING: C:/Users/Administrator/workspace/xgboost-win64_release_1.5.1/src/learner.cc:1115: Starting in XGBoost 1.3.0, the default evaluation metric used with the objective 'binary:logistic' was changed from 'error' to 'logloss'. Explicitly set eval_metric if you'd like to restore the old behavior.\n",
      "XGB:  XGBClassifier(base_score=0.5, booster='gbtree', colsample_bylevel=1,\n",
      "              colsample_bynode=1, colsample_bytree=1, enable_categorical=False,\n",
      "              gamma=0, gpu_id=-1, importance_type=None,\n",
      "              interaction_constraints='', learning_rate=0.300000012,\n",
      "              max_delta_step=0, max_depth=6, min_child_weight=1, missing=nan,\n",
      "              monotone_constraints='()', n_estimators=100, n_jobs=2,\n",
      "              num_parallel_tree=1, predictor='auto', random_state=101,\n",
      "              reg_alpha=0, reg_lambda=1, scale_pos_weight=1, subsample=1,\n",
      "              tree_method='exact', validate_parameters=1, verbosity=None)\n",
      "AdaB:  AdaBoostClassifier(random_state=101)\n",
      "GB:  GradientBoostingClassifier(random_state=101)\n"
     ]
    }
   ],
   "source": [
    "print('Logistic Regression: ', lr.fit(X_train, y_train))\n",
    "print('Decision Tree: ', d_tree.fit(X_train, y_train))\n",
    "print('Random Forest: ', rfc.fit(X_train, y_train))\n",
    "print('KNN: ', knn.fit(X_train, y_train))\n",
    "print('SVC: ', svc.fit(X_train, y_train))\n",
    "print('XGB: ', xgb.fit(X_train, y_train))\n",
    "print('AdaB: ', ab.fit(X_train, y_train))\n",
    "print('GB: ', gb.fit(X_train, y_train))"
   ]
  },
  {
   "cell_type": "code",
   "execution_count": 28,
   "metadata": {},
   "outputs": [],
   "source": [
    "pred_lr = lr.predict(X_train)\n",
    "pred_dt = d_tree.predict(X_train)\n",
    "pred_rf = rfc.predict(X_train)\n",
    "pred_knn = knn.predict(X_train)\n",
    "pred_svc = svc.predict(X_train)\n",
    "pred_xgb = xgb.predict(X_train)\n",
    "pred_ab = ab.predict(X_train)\n",
    "pred_gb = gb.predict(X_train)"
   ]
  },
  {
   "cell_type": "code",
   "execution_count": 29,
   "metadata": {},
   "outputs": [],
   "source": [
    "pred_lr_test = lr.predict(X_test)\n",
    "pred_dt_test = d_tree.predict(X_test)\n",
    "pred_rf_test = rfc.predict(X_test)\n",
    "pred_knn_test = knn.predict(X_test)\n",
    "pred_svc_test = svc.predict(X_test)\n",
    "pred_xgb_test = xgb.predict(X_test)\n",
    "pred_ab_test = ab.predict(X_test)\n",
    "pred_gb_test = gb.predict(X_test)"
   ]
  },
  {
   "cell_type": "code",
   "execution_count": 30,
   "metadata": {},
   "outputs": [],
   "source": [
    "from sklearn.metrics import accuracy_score\n",
    "from sklearn.metrics import classification_report"
   ]
  },
  {
   "cell_type": "code",
   "execution_count": 31,
   "metadata": {},
   "outputs": [
    {
     "name": "stdout",
     "output_type": "stream",
     "text": [
      "Logistic Regression:\n",
      "Accuracy Score of trained set:  0.9428789420142422\n",
      "Accuracy Score of test set:  0.9379576891781937\n",
      "\n",
      "Decision Tree:\n",
      "Accuracy Score of trained set:  0.9437436419125127\n",
      "Accuracy Score of test set:  0.9383645240032547\n",
      "\n",
      "Random Forest:\n",
      "Accuracy Score of trained set:  0.9987283825025433\n",
      "Accuracy Score of test set:  0.9442636289666395\n",
      "\n",
      "K-Nearest Neighbour:\n",
      "Accuracy Score of trained set:  0.9458799593082401\n",
      "Accuracy Score of test set:  0.9312449145646867\n",
      "\n",
      "SVC:\n",
      "Accuracy Score of trained set:  0.9428789420142422\n",
      "Accuracy Score of test set:  0.9379576891781937\n",
      "\n",
      "XG Booster:\n",
      "Accuracy Score of trained set:  0.9718718209562563\n",
      "Accuracy Score of test set:  0.942432872253865\n",
      "\n",
      "ADA Booster:\n",
      "Accuracy Score of trained set:  0.9428789420142422\n",
      "Accuracy Score of test set:  0.9379576891781937\n",
      "\n",
      "Gradient Booster:\n",
      "Accuracy Score of trained set:  0.944913530010173\n",
      "Accuracy Score of test set:  0.9383645240032547\n"
     ]
    }
   ],
   "source": [
    "print('Logistic Regression:') # LR\n",
    "print('Accuracy Score of trained set: ',accuracy_score(pred_lr, y_train))\n",
    "print('Accuracy Score of test set: ',accuracy_score(pred_lr_test, y_test))\n",
    "print()\n",
    "print('Decision Tree:')  # DT\n",
    "print('Accuracy Score of trained set: ',accuracy_score(pred_dt, y_train))\n",
    "print('Accuracy Score of test set: ',accuracy_score(pred_dt_test, y_test))\n",
    "print()\n",
    "print('Random Forest:')   # RF\n",
    "print('Accuracy Score of trained set: ',accuracy_score(pred_rf, y_train))\n",
    "print('Accuracy Score of test set: ',accuracy_score(pred_rf_test, y_test))\n",
    "print()\n",
    "print('K-Nearest Neighbour:') # KNN\n",
    "print('Accuracy Score of trained set: ',accuracy_score(pred_knn, y_train))\n",
    "print('Accuracy Score of test set: ',accuracy_score(pred_knn_test, y_test))\n",
    "print()\n",
    "print('SVC:') #SVC\n",
    "print('Accuracy Score of trained set: ',accuracy_score(pred_svc, y_train))\n",
    "print('Accuracy Score of test set: ',accuracy_score(pred_svc_test, y_test))\n",
    "print()\n",
    "print('XG Booster:') #XGB\n",
    "print('Accuracy Score of trained set: ',accuracy_score(pred_xgb, y_train))\n",
    "print('Accuracy Score of test set: ',accuracy_score(pred_xgb_test, y_test))\n",
    "print()\n",
    "print('ADA Booster:') #AB\n",
    "print('Accuracy Score of trained set: ',accuracy_score(pred_ab, y_train))\n",
    "print('Accuracy Score of test set: ',accuracy_score(pred_ab_test, y_test))\n",
    "print()\n",
    "print('Gradient Booster:') #GB\n",
    "print('Accuracy Score of trained set: ',accuracy_score(pred_gb, y_train))\n",
    "print('Accuracy Score of test set: ',accuracy_score(pred_gb_test, y_test))\n"
   ]
  },
  {
   "cell_type": "code",
   "execution_count": 32,
   "metadata": {},
   "outputs": [
    {
     "name": "stdout",
     "output_type": "stream",
     "text": [
      "Logistic Regression:\n",
      "              precision    recall  f1-score   support\n",
      "\n",
      "           0       0.00      0.00      0.00         0\n",
      "           1       1.00      0.94      0.97      4916\n",
      "\n",
      "    accuracy                           0.94      4916\n",
      "   macro avg       0.50      0.47      0.48      4916\n",
      "weighted avg       1.00      0.94      0.97      4916\n",
      "\n",
      "\n",
      "Decision Tree:\n",
      "              precision    recall  f1-score   support\n",
      "\n",
      "           0       0.01      0.75      0.02         4\n",
      "           1       1.00      0.94      0.97      4912\n",
      "\n",
      "    accuracy                           0.94      4916\n",
      "   macro avg       0.50      0.84      0.49      4916\n",
      "weighted avg       1.00      0.94      0.97      4916\n",
      "\n",
      "\n",
      "Random Forest:\n",
      "              precision    recall  f1-score   support\n",
      "\n",
      "           0       0.27      0.62      0.37       131\n",
      "           1       0.99      0.95      0.97      4785\n",
      "\n",
      "    accuracy                           0.94      4916\n",
      "   macro avg       0.63      0.79      0.67      4916\n",
      "weighted avg       0.97      0.94      0.95      4916\n",
      "\n",
      "\n",
      "K-Nearest Neighbour:\n",
      "              precision    recall  f1-score   support\n",
      "\n",
      "           0       0.01      0.05      0.01        37\n",
      "           1       0.99      0.94      0.96      4879\n",
      "\n",
      "    accuracy                           0.93      4916\n",
      "   macro avg       0.50      0.50      0.49      4916\n",
      "weighted avg       0.98      0.93      0.96      4916\n",
      "\n",
      "\n",
      "SVC:\n",
      "              precision    recall  f1-score   support\n",
      "\n",
      "           0       0.00      0.00      0.00         0\n",
      "           1       1.00      0.94      0.97      4916\n",
      "\n",
      "    accuracy                           0.94      4916\n",
      "   macro avg       0.50      0.47      0.48      4916\n",
      "weighted avg       1.00      0.94      0.97      4916\n",
      "\n",
      "\n",
      "XGB:\n",
      "              precision    recall  f1-score   support\n",
      "\n",
      "           0       0.15      0.66      0.25        70\n",
      "           1       0.99      0.95      0.97      4846\n",
      "\n",
      "    accuracy                           0.94      4916\n",
      "   macro avg       0.57      0.80      0.61      4916\n",
      "weighted avg       0.98      0.94      0.96      4916\n",
      "\n",
      "\n",
      "ADA Booster:\n",
      "              precision    recall  f1-score   support\n",
      "\n",
      "           0       0.00      0.00      0.00         0\n",
      "           1       1.00      0.94      0.97      4916\n",
      "\n",
      "    accuracy                           0.94      4916\n",
      "   macro avg       0.50      0.47      0.48      4916\n",
      "weighted avg       1.00      0.94      0.97      4916\n",
      "\n",
      "\n",
      "Gradient Booster:\n",
      "              precision    recall  f1-score   support\n",
      "\n",
      "           0       0.01      0.75      0.02         4\n",
      "           1       1.00      0.94      0.97      4912\n",
      "\n",
      "    accuracy                           0.94      4916\n",
      "   macro avg       0.50      0.84      0.49      4916\n",
      "weighted avg       1.00      0.94      0.97      4916\n",
      "\n"
     ]
    }
   ],
   "source": [
    "print('Logistic Regression:')\n",
    "print(classification_report(pred_lr_test, y_test))\n",
    "print()\n",
    "print('Decision Tree:')\n",
    "print(classification_report(pred_dt_test, y_test))\n",
    "print()\n",
    "print('Random Forest:')\n",
    "print(classification_report(pred_rf_test, y_test))\n",
    "print()\n",
    "print('K-Nearest Neighbour:')\n",
    "print(classification_report(pred_knn_test, y_test))\n",
    "print()\n",
    "print('SVC:')\n",
    "print(classification_report(pred_svc_test, y_test))\n",
    "print()\n",
    "print('XGB:')\n",
    "print(classification_report(pred_xgb_test, y_test))\n",
    "print()\n",
    "print('ADA Booster:')\n",
    "print(classification_report(pred_ab_test, y_test))\n",
    "print()\n",
    "print('Gradient Booster:')\n",
    "print(classification_report(pred_gb_test, y_test))"
   ]
  },
  {
   "cell_type": "code",
   "execution_count": 33,
   "metadata": {},
   "outputs": [],
   "source": [
    "from sklearn.model_selection import cross_val_score"
   ]
  },
  {
   "cell_type": "code",
   "execution_count": 34,
   "metadata": {},
   "outputs": [],
   "source": [
    "def evulate_model(model, X, y):\n",
    "    cv = cross_val_score(model, X, y, cv = 5)\n",
    "    print(cv)\n",
    "    print(cv.mean())"
   ]
  },
  {
   "cell_type": "code",
   "execution_count": 35,
   "metadata": {},
   "outputs": [
    {
     "name": "stdout",
     "output_type": "stream",
     "text": [
      "Logistic regression\n",
      "[0.94303154 0.94303154 0.94277721 0.94277721 0.94277721]\n",
      "0.9428789420142423\n",
      "\n",
      "DECISION TREE\n",
      "[0.94277721 0.94277721 0.94277721 0.94277721 0.94201424]\n",
      "0.9426246185147507\n",
      "\n",
      "Random forest classifier\n",
      "[0.94532045 0.94938962 0.94582909 0.94633774 0.9448118 ]\n",
      "0.9463377416073246\n",
      "\n",
      "K-Nearest Neighbour\n",
      "[0.93641913 0.93438454 0.93489318 0.9361648  0.93769074]\n",
      "0.935910478128179\n",
      "\n",
      "Support Vector Classifier\n",
      "[0.94303154 0.94303154 0.94277721 0.94277721 0.94277721]\n",
      "0.9428789420142423\n",
      "\n",
      "XG Booster Classifier\n",
      "[15:28:45] WARNING: C:/Users/Administrator/workspace/xgboost-win64_release_1.5.1/src/learner.cc:1115: Starting in XGBoost 1.3.0, the default evaluation metric used with the objective 'binary:logistic' was changed from 'error' to 'logloss'. Explicitly set eval_metric if you'd like to restore the old behavior.\n",
      "[15:28:54] WARNING: C:/Users/Administrator/workspace/xgboost-win64_release_1.5.1/src/learner.cc:1115: Starting in XGBoost 1.3.0, the default evaluation metric used with the objective 'binary:logistic' was changed from 'error' to 'logloss'. Explicitly set eval_metric if you'd like to restore the old behavior.\n",
      "[15:29:03] WARNING: C:/Users/Administrator/workspace/xgboost-win64_release_1.5.1/src/learner.cc:1115: Starting in XGBoost 1.3.0, the default evaluation metric used with the objective 'binary:logistic' was changed from 'error' to 'logloss'. Explicitly set eval_metric if you'd like to restore the old behavior.\n",
      "[15:29:11] WARNING: C:/Users/Administrator/workspace/xgboost-win64_release_1.5.1/src/learner.cc:1115: Starting in XGBoost 1.3.0, the default evaluation metric used with the objective 'binary:logistic' was changed from 'error' to 'logloss'. Explicitly set eval_metric if you'd like to restore the old behavior.\n",
      "[15:29:18] WARNING: C:/Users/Administrator/workspace/xgboost-win64_release_1.5.1/src/learner.cc:1115: Starting in XGBoost 1.3.0, the default evaluation metric used with the objective 'binary:logistic' was changed from 'error' to 'logloss'. Explicitly set eval_metric if you'd like to restore the old behavior.\n",
      "[0.94557477 0.94633774 0.94404883 0.9448118  0.9448118 ]\n",
      "0.9451169888097659\n",
      "\n",
      "ADA Booster Classifier\n",
      "[0.94303154 0.94303154 0.94277721 0.94277721 0.94277721]\n",
      "0.9428789420142423\n",
      "\n",
      "Gradient Boosting Classifier\n",
      "[0.94430315 0.94328586 0.94252289 0.94430315 0.94328586]\n",
      "0.9435401831129194\n"
     ]
    }
   ],
   "source": [
    "print(\"Logistic regression\")\n",
    "evulate_model(lr, X_train, y_train)\n",
    "print()\n",
    "print(\"DECISION TREE\")\n",
    "evulate_model(d_tree, X_train, y_train)\n",
    "print()\n",
    "print(\"Random forest classifier\")\n",
    "evulate_model(rfc, X_train, y_train)\n",
    "print()\n",
    "print(\"K-Nearest Neighbour\")\n",
    "evulate_model(knn, X_train, y_train)\n",
    "print()\n",
    "print(\"Support Vector Classifier\")\n",
    "evulate_model(svc, X_train, y_train)\n",
    "print()\n",
    "print(\"XG Booster Classifier\")\n",
    "evulate_model(xgb, X_train, y_train)\n",
    "print()\n",
    "print(\"ADA Booster Classifier\")\n",
    "evulate_model(ab, X_train, y_train)\n",
    "print()\n",
    "print(\"Gradient Boosting Classifier\")\n",
    "evulate_model(gb, X_train, y_train)"
   ]
  },
  {
   "cell_type": "code",
   "execution_count": 37,
   "metadata": {},
   "outputs": [
    {
     "name": "stdout",
     "output_type": "stream",
     "text": [
      "Fitting 3 folds for each of 140 candidates, totalling 420 fits\n"
     ]
    },
    {
     "name": "stderr",
     "output_type": "stream",
     "text": [
      "[Parallel(n_jobs=-1)]: Using backend LokyBackend with 2 concurrent workers.\n",
      "[Parallel(n_jobs=-1)]: Done  46 tasks      | elapsed:  1.1min\n",
      "[Parallel(n_jobs=-1)]: Done 196 tasks      | elapsed:  7.5min\n",
      "[Parallel(n_jobs=-1)]: Done 420 out of 420 | elapsed: 20.3min finished\n"
     ]
    },
    {
     "data": {
      "text/plain": [
       "GridSearchCV(cv=3, estimator=RandomForestClassifier(), n_jobs=-1,\n",
       "             param_grid={'bootstrap': [True, False],\n",
       "                         'max_depth': [2, 3, 5, 10, 20],\n",
       "                         'max_features': ['auto', 'sqrt'],\n",
       "                         'n_estimators': [10, 20, 40, 60, 100, 150, 200]},\n",
       "             verbose=1)"
      ]
     },
     "execution_count": 37,
     "metadata": {},
     "output_type": "execute_result"
    }
   ],
   "source": [
    "from sklearn.model_selection import GridSearchCV \n",
    "grid = {        'n_estimators': [10, 20, 40, 60, 100, 150, 200],\n",
    "                'max_features': ['auto', 'sqrt'],\n",
    "                'max_depth': [2,3,5,10,20],\n",
    "                'bootstrap': [True, False]\n",
    "                }\n",
    "rf_clf = RandomForestClassifier()\n",
    "rf_random = GridSearchCV(estimator = rf_clf, param_grid = grid, cv = 3, verbose=1, n_jobs = -1)\n",
    "rf_random.fit(X_train, y_train)\n"
   ]
  },
  {
   "cell_type": "code",
   "execution_count": 38,
   "metadata": {},
   "outputs": [],
   "source": [
    "learning_rates = [0.05, 0.1, 0.25, 0.5, 0.75, 1]\n",
    "for learning_rate in learning_rates:\n",
    "    gb = GradientBoostingClassifier(n_estimators=250, learning_rate = learning_rate, max_features=2, max_depth = 3, random_state = 7)\n",
    "    gb.fit(X_train, y_train)"
   ]
  },
  {
   "cell_type": "code",
   "execution_count": 39,
   "metadata": {},
   "outputs": [
    {
     "data": {
      "text/plain": [
       "0.9932858596134283"
      ]
     },
     "execution_count": 39,
     "metadata": {},
     "output_type": "execute_result"
    }
   ],
   "source": [
    "rf_random.score(X_train, y_train)"
   ]
  },
  {
   "cell_type": "code",
   "execution_count": 40,
   "metadata": {},
   "outputs": [
    {
     "data": {
      "text/plain": [
       "0.9675483214649033"
      ]
     },
     "execution_count": 40,
     "metadata": {},
     "output_type": "execute_result"
    }
   ],
   "source": [
    "gb.score(X_train, y_train)"
   ]
  },
  {
   "cell_type": "markdown",
   "metadata": {},
   "source": [
    "# Working on Test dataset"
   ]
  },
  {
   "cell_type": "code",
   "execution_count": 41,
   "metadata": {},
   "outputs": [],
   "source": [
    "test_data = pd.read_csv(r'C:\\Users\\Mugdha\\Music\\GCDAI_9th May 2021\\Employer access prediction\\ea_test.csv')"
   ]
  },
  {
   "cell_type": "code",
   "execution_count": 42,
   "metadata": {},
   "outputs": [
    {
     "name": "stdout",
     "output_type": "stream",
     "text": [
      "Shape of the Test dataset:  (8193, 10)\n"
     ]
    },
    {
     "data": {
      "text/html": [
       "<div>\n",
       "<style scoped>\n",
       "    .dataframe tbody tr th:only-of-type {\n",
       "        vertical-align: middle;\n",
       "    }\n",
       "\n",
       "    .dataframe tbody tr th {\n",
       "        vertical-align: top;\n",
       "    }\n",
       "\n",
       "    .dataframe thead th {\n",
       "        text-align: right;\n",
       "    }\n",
       "</style>\n",
       "<table border=\"1\" class=\"dataframe\">\n",
       "  <thead>\n",
       "    <tr style=\"text-align: right;\">\n",
       "      <th></th>\n",
       "      <th>RESOURCE</th>\n",
       "      <th>MGR_ID</th>\n",
       "      <th>ROLE_ROLLUP_1</th>\n",
       "      <th>ROLE_ROLLUP_2</th>\n",
       "      <th>ROLE_DEPTNAME</th>\n",
       "      <th>ROLE_TITLE</th>\n",
       "      <th>ROLE_FAMILY_DESC</th>\n",
       "      <th>ROLE_FAMILY</th>\n",
       "      <th>ROLE_CODE</th>\n",
       "      <th>ID</th>\n",
       "    </tr>\n",
       "  </thead>\n",
       "  <tbody>\n",
       "    <tr>\n",
       "      <th>0</th>\n",
       "      <td>37793</td>\n",
       "      <td>81744</td>\n",
       "      <td>117902</td>\n",
       "      <td>117903</td>\n",
       "      <td>118783</td>\n",
       "      <td>118451</td>\n",
       "      <td>130134</td>\n",
       "      <td>118453</td>\n",
       "      <td>118454</td>\n",
       "      <td>18245</td>\n",
       "    </tr>\n",
       "    <tr>\n",
       "      <th>1</th>\n",
       "      <td>40309</td>\n",
       "      <td>1541</td>\n",
       "      <td>117961</td>\n",
       "      <td>118225</td>\n",
       "      <td>123173</td>\n",
       "      <td>119093</td>\n",
       "      <td>123174</td>\n",
       "      <td>119095</td>\n",
       "      <td>119096</td>\n",
       "      <td>9226</td>\n",
       "    </tr>\n",
       "    <tr>\n",
       "      <th>2</th>\n",
       "      <td>27356</td>\n",
       "      <td>205</td>\n",
       "      <td>117961</td>\n",
       "      <td>118386</td>\n",
       "      <td>118746</td>\n",
       "      <td>118784</td>\n",
       "      <td>147114</td>\n",
       "      <td>290919</td>\n",
       "      <td>118786</td>\n",
       "      <td>27195</td>\n",
       "    </tr>\n",
       "    <tr>\n",
       "      <th>3</th>\n",
       "      <td>5173</td>\n",
       "      <td>8229</td>\n",
       "      <td>117961</td>\n",
       "      <td>118300</td>\n",
       "      <td>121305</td>\n",
       "      <td>119351</td>\n",
       "      <td>149246</td>\n",
       "      <td>3130</td>\n",
       "      <td>119353</td>\n",
       "      <td>6478</td>\n",
       "    </tr>\n",
       "    <tr>\n",
       "      <th>4</th>\n",
       "      <td>77207</td>\n",
       "      <td>51791</td>\n",
       "      <td>117961</td>\n",
       "      <td>119256</td>\n",
       "      <td>120943</td>\n",
       "      <td>118995</td>\n",
       "      <td>280788</td>\n",
       "      <td>292795</td>\n",
       "      <td>118997</td>\n",
       "      <td>4813</td>\n",
       "    </tr>\n",
       "    <tr>\n",
       "      <th>...</th>\n",
       "      <td>...</td>\n",
       "      <td>...</td>\n",
       "      <td>...</td>\n",
       "      <td>...</td>\n",
       "      <td>...</td>\n",
       "      <td>...</td>\n",
       "      <td>...</td>\n",
       "      <td>...</td>\n",
       "      <td>...</td>\n",
       "      <td>...</td>\n",
       "    </tr>\n",
       "    <tr>\n",
       "      <th>8188</th>\n",
       "      <td>80316</td>\n",
       "      <td>15625</td>\n",
       "      <td>118169</td>\n",
       "      <td>118170</td>\n",
       "      <td>119796</td>\n",
       "      <td>119849</td>\n",
       "      <td>310589</td>\n",
       "      <td>118638</td>\n",
       "      <td>119851</td>\n",
       "      <td>29155</td>\n",
       "    </tr>\n",
       "    <tr>\n",
       "      <th>8189</th>\n",
       "      <td>36480</td>\n",
       "      <td>2930</td>\n",
       "      <td>117961</td>\n",
       "      <td>118343</td>\n",
       "      <td>118700</td>\n",
       "      <td>120690</td>\n",
       "      <td>136365</td>\n",
       "      <td>290919</td>\n",
       "      <td>120692</td>\n",
       "      <td>6717</td>\n",
       "    </tr>\n",
       "    <tr>\n",
       "      <th>8190</th>\n",
       "      <td>74627</td>\n",
       "      <td>13193</td>\n",
       "      <td>118349</td>\n",
       "      <td>118350</td>\n",
       "      <td>117895</td>\n",
       "      <td>118194</td>\n",
       "      <td>118195</td>\n",
       "      <td>117887</td>\n",
       "      <td>118196</td>\n",
       "      <td>15730</td>\n",
       "    </tr>\n",
       "    <tr>\n",
       "      <th>8191</th>\n",
       "      <td>51803</td>\n",
       "      <td>13836</td>\n",
       "      <td>119920</td>\n",
       "      <td>119921</td>\n",
       "      <td>142145</td>\n",
       "      <td>128230</td>\n",
       "      <td>302830</td>\n",
       "      <td>4673</td>\n",
       "      <td>128231</td>\n",
       "      <td>24068</td>\n",
       "    </tr>\n",
       "    <tr>\n",
       "      <th>8192</th>\n",
       "      <td>38063</td>\n",
       "      <td>21340</td>\n",
       "      <td>11146</td>\n",
       "      <td>118491</td>\n",
       "      <td>117920</td>\n",
       "      <td>117879</td>\n",
       "      <td>117886</td>\n",
       "      <td>19721</td>\n",
       "      <td>117880</td>\n",
       "      <td>20494</td>\n",
       "    </tr>\n",
       "  </tbody>\n",
       "</table>\n",
       "<p>8193 rows × 10 columns</p>\n",
       "</div>"
      ],
      "text/plain": [
       "      RESOURCE  MGR_ID  ROLE_ROLLUP_1  ROLE_ROLLUP_2  ROLE_DEPTNAME  \\\n",
       "0        37793   81744         117902         117903         118783   \n",
       "1        40309    1541         117961         118225         123173   \n",
       "2        27356     205         117961         118386         118746   \n",
       "3         5173    8229         117961         118300         121305   \n",
       "4        77207   51791         117961         119256         120943   \n",
       "...        ...     ...            ...            ...            ...   \n",
       "8188     80316   15625         118169         118170         119796   \n",
       "8189     36480    2930         117961         118343         118700   \n",
       "8190     74627   13193         118349         118350         117895   \n",
       "8191     51803   13836         119920         119921         142145   \n",
       "8192     38063   21340          11146         118491         117920   \n",
       "\n",
       "      ROLE_TITLE  ROLE_FAMILY_DESC  ROLE_FAMILY  ROLE_CODE     ID  \n",
       "0         118451            130134       118453     118454  18245  \n",
       "1         119093            123174       119095     119096   9226  \n",
       "2         118784            147114       290919     118786  27195  \n",
       "3         119351            149246         3130     119353   6478  \n",
       "4         118995            280788       292795     118997   4813  \n",
       "...          ...               ...          ...        ...    ...  \n",
       "8188      119849            310589       118638     119851  29155  \n",
       "8189      120690            136365       290919     120692   6717  \n",
       "8190      118194            118195       117887     118196  15730  \n",
       "8191      128230            302830         4673     128231  24068  \n",
       "8192      117879            117886        19721     117880  20494  \n",
       "\n",
       "[8193 rows x 10 columns]"
      ]
     },
     "execution_count": 42,
     "metadata": {},
     "output_type": "execute_result"
    }
   ],
   "source": [
    "print('Shape of the Test dataset: ', test_data.shape)\n",
    "test_data"
   ]
  },
  {
   "cell_type": "code",
   "execution_count": 43,
   "metadata": {},
   "outputs": [
    {
     "name": "stdout",
     "output_type": "stream",
     "text": [
      "<class 'pandas.core.frame.DataFrame'>\n",
      "RangeIndex: 8193 entries, 0 to 8192\n",
      "Data columns (total 10 columns):\n",
      " #   Column            Non-Null Count  Dtype\n",
      "---  ------            --------------  -----\n",
      " 0   RESOURCE          8193 non-null   int64\n",
      " 1   MGR_ID            8193 non-null   int64\n",
      " 2   ROLE_ROLLUP_1     8193 non-null   int64\n",
      " 3   ROLE_ROLLUP_2     8193 non-null   int64\n",
      " 4   ROLE_DEPTNAME     8193 non-null   int64\n",
      " 5   ROLE_TITLE        8193 non-null   int64\n",
      " 6   ROLE_FAMILY_DESC  8193 non-null   int64\n",
      " 7   ROLE_FAMILY       8193 non-null   int64\n",
      " 8   ROLE_CODE         8193 non-null   int64\n",
      " 9   ID                8193 non-null   int64\n",
      "dtypes: int64(10)\n",
      "memory usage: 640.2 KB\n"
     ]
    }
   ],
   "source": [
    "test_data.info()"
   ]
  },
  {
   "cell_type": "code",
   "execution_count": 44,
   "metadata": {},
   "outputs": [
    {
     "data": {
      "text/plain": [
       "RESOURCE            0\n",
       "MGR_ID              0\n",
       "ROLE_ROLLUP_1       0\n",
       "ROLE_ROLLUP_2       0\n",
       "ROLE_DEPTNAME       0\n",
       "ROLE_TITLE          0\n",
       "ROLE_FAMILY_DESC    0\n",
       "ROLE_FAMILY         0\n",
       "ROLE_CODE           0\n",
       "ID                  0\n",
       "dtype: int64"
      ]
     },
     "execution_count": 44,
     "metadata": {},
     "output_type": "execute_result"
    }
   ],
   "source": [
    "test_data.isnull().sum()"
   ]
  },
  {
   "cell_type": "code",
   "execution_count": 45,
   "metadata": {},
   "outputs": [
    {
     "name": "stdout",
     "output_type": "stream",
     "text": [
      "Duplicated values in the test dataset:  False\n"
     ]
    }
   ],
   "source": [
    "print('Duplicated values in the test dataset: ', test_data.duplicated().any())"
   ]
  },
  {
   "cell_type": "code",
   "execution_count": 46,
   "metadata": {},
   "outputs": [
    {
     "data": {
      "text/plain": [
       "Index(['RESOURCE', 'MGR_ID', 'ROLE_ROLLUP_1', 'ROLE_ROLLUP_2', 'ROLE_DEPTNAME',\n",
       "       'ROLE_TITLE', 'ROLE_FAMILY_DESC', 'ROLE_FAMILY', 'ROLE_CODE', 'ID'],\n",
       "      dtype='object')"
      ]
     },
     "execution_count": 46,
     "metadata": {},
     "output_type": "execute_result"
    }
   ],
   "source": [
    "test_data.columns"
   ]
  },
  {
   "cell_type": "markdown",
   "metadata": {},
   "source": [
    "# Scaling Test dataset"
   ]
  },
  {
   "cell_type": "code",
   "execution_count": 47,
   "metadata": {},
   "outputs": [
    {
     "data": {
      "text/html": [
       "<div>\n",
       "<style scoped>\n",
       "    .dataframe tbody tr th:only-of-type {\n",
       "        vertical-align: middle;\n",
       "    }\n",
       "\n",
       "    .dataframe tbody tr th {\n",
       "        vertical-align: top;\n",
       "    }\n",
       "\n",
       "    .dataframe thead th {\n",
       "        text-align: right;\n",
       "    }\n",
       "</style>\n",
       "<table border=\"1\" class=\"dataframe\">\n",
       "  <thead>\n",
       "    <tr style=\"text-align: right;\">\n",
       "      <th></th>\n",
       "      <th>RESOURCE</th>\n",
       "      <th>MGR_ID</th>\n",
       "      <th>ROLE_ROLLUP_1</th>\n",
       "      <th>ROLE_ROLLUP_2</th>\n",
       "      <th>ROLE_DEPTNAME</th>\n",
       "      <th>ROLE_TITLE</th>\n",
       "      <th>ROLE_FAMILY_DESC</th>\n",
       "      <th>ROLE_FAMILY</th>\n",
       "      <th>ROLE_CODE</th>\n",
       "      <th>ID</th>\n",
       "    </tr>\n",
       "  </thead>\n",
       "  <tbody>\n",
       "    <tr>\n",
       "      <th>0</th>\n",
       "      <td>-0.155109</td>\n",
       "      <td>1.521175</td>\n",
       "      <td>0.089945</td>\n",
       "      <td>-0.147335</td>\n",
       "      <td>-0.015287</td>\n",
       "      <td>-0.252386</td>\n",
       "      <td>-0.585370</td>\n",
       "      <td>-0.653942</td>\n",
       "      <td>-0.219593</td>\n",
       "      <td>18245</td>\n",
       "    </tr>\n",
       "    <tr>\n",
       "      <th>1</th>\n",
       "      <td>-0.080906</td>\n",
       "      <td>-0.678291</td>\n",
       "      <td>0.095487</td>\n",
       "      <td>-0.056380</td>\n",
       "      <td>0.205380</td>\n",
       "      <td>-0.232695</td>\n",
       "      <td>-0.684743</td>\n",
       "      <td>-0.647539</td>\n",
       "      <td>-0.119450</td>\n",
       "      <td>9226</td>\n",
       "    </tr>\n",
       "    <tr>\n",
       "      <th>2</th>\n",
       "      <td>-0.462923</td>\n",
       "      <td>-0.714929</td>\n",
       "      <td>0.095487</td>\n",
       "      <td>-0.010903</td>\n",
       "      <td>-0.017147</td>\n",
       "      <td>-0.242172</td>\n",
       "      <td>-0.342932</td>\n",
       "      <td>1.066187</td>\n",
       "      <td>-0.167806</td>\n",
       "      <td>27195</td>\n",
       "    </tr>\n",
       "    <tr>\n",
       "      <th>3</th>\n",
       "      <td>-1.117158</td>\n",
       "      <td>-0.494881</td>\n",
       "      <td>0.095487</td>\n",
       "      <td>-0.035195</td>\n",
       "      <td>0.111484</td>\n",
       "      <td>-0.224782</td>\n",
       "      <td>-0.312492</td>\n",
       "      <td>-1.804143</td>\n",
       "      <td>-0.079362</td>\n",
       "      <td>6478</td>\n",
       "    </tr>\n",
       "    <tr>\n",
       "      <th>4</th>\n",
       "      <td>1.007312</td>\n",
       "      <td>0.699752</td>\n",
       "      <td>0.095487</td>\n",
       "      <td>0.234844</td>\n",
       "      <td>0.093287</td>\n",
       "      <td>-0.235701</td>\n",
       "      <td>1.565643</td>\n",
       "      <td>1.084898</td>\n",
       "      <td>-0.134893</td>\n",
       "      <td>4813</td>\n",
       "    </tr>\n",
       "  </tbody>\n",
       "</table>\n",
       "</div>"
      ],
      "text/plain": [
       "   RESOURCE    MGR_ID  ROLE_ROLLUP_1  ROLE_ROLLUP_2  ROLE_DEPTNAME  \\\n",
       "0 -0.155109  1.521175       0.089945      -0.147335      -0.015287   \n",
       "1 -0.080906 -0.678291       0.095487      -0.056380       0.205380   \n",
       "2 -0.462923 -0.714929       0.095487      -0.010903      -0.017147   \n",
       "3 -1.117158 -0.494881       0.095487      -0.035195       0.111484   \n",
       "4  1.007312  0.699752       0.095487       0.234844       0.093287   \n",
       "\n",
       "   ROLE_TITLE  ROLE_FAMILY_DESC  ROLE_FAMILY  ROLE_CODE     ID  \n",
       "0   -0.252386         -0.585370    -0.653942  -0.219593  18245  \n",
       "1   -0.232695         -0.684743    -0.647539  -0.119450   9226  \n",
       "2   -0.242172         -0.342932     1.066187  -0.167806  27195  \n",
       "3   -0.224782         -0.312492    -1.804143  -0.079362   6478  \n",
       "4   -0.235701          1.565643     1.084898  -0.134893   4813  "
      ]
     },
     "execution_count": 47,
     "metadata": {},
     "output_type": "execute_result"
    }
   ],
   "source": [
    "test_data[numeric_features]= sc.fit_transform(test_data[numeric_features])\n",
    "test_data.head()"
   ]
  },
  {
   "cell_type": "markdown",
   "metadata": {},
   "source": [
    "# Prediction of ACTION"
   ]
  },
  {
   "cell_type": "code",
   "execution_count": 48,
   "metadata": {},
   "outputs": [],
   "source": [
    "pred_data = rf_random.predict(test_data)"
   ]
  },
  {
   "cell_type": "code",
   "execution_count": 49,
   "metadata": {},
   "outputs": [
    {
     "data": {
      "text/plain": [
       "array([1, 1, 1, ..., 1, 1, 1], dtype=int64)"
      ]
     },
     "execution_count": 49,
     "metadata": {},
     "output_type": "execute_result"
    }
   ],
   "source": [
    "pred_data"
   ]
  },
  {
   "cell_type": "code",
   "execution_count": 50,
   "metadata": {},
   "outputs": [],
   "source": [
    "test_final = pd.DataFrame(pred_data)"
   ]
  },
  {
   "cell_type": "code",
   "execution_count": 51,
   "metadata": {},
   "outputs": [
    {
     "data": {
      "text/html": [
       "<div>\n",
       "<style scoped>\n",
       "    .dataframe tbody tr th:only-of-type {\n",
       "        vertical-align: middle;\n",
       "    }\n",
       "\n",
       "    .dataframe tbody tr th {\n",
       "        vertical-align: top;\n",
       "    }\n",
       "\n",
       "    .dataframe thead th {\n",
       "        text-align: right;\n",
       "    }\n",
       "</style>\n",
       "<table border=\"1\" class=\"dataframe\">\n",
       "  <thead>\n",
       "    <tr style=\"text-align: right;\">\n",
       "      <th></th>\n",
       "      <th>0</th>\n",
       "    </tr>\n",
       "  </thead>\n",
       "  <tbody>\n",
       "    <tr>\n",
       "      <th>0</th>\n",
       "      <td>1</td>\n",
       "    </tr>\n",
       "    <tr>\n",
       "      <th>1</th>\n",
       "      <td>1</td>\n",
       "    </tr>\n",
       "    <tr>\n",
       "      <th>2</th>\n",
       "      <td>1</td>\n",
       "    </tr>\n",
       "    <tr>\n",
       "      <th>3</th>\n",
       "      <td>1</td>\n",
       "    </tr>\n",
       "    <tr>\n",
       "      <th>4</th>\n",
       "      <td>1</td>\n",
       "    </tr>\n",
       "    <tr>\n",
       "      <th>...</th>\n",
       "      <td>...</td>\n",
       "    </tr>\n",
       "    <tr>\n",
       "      <th>8188</th>\n",
       "      <td>1</td>\n",
       "    </tr>\n",
       "    <tr>\n",
       "      <th>8189</th>\n",
       "      <td>1</td>\n",
       "    </tr>\n",
       "    <tr>\n",
       "      <th>8190</th>\n",
       "      <td>1</td>\n",
       "    </tr>\n",
       "    <tr>\n",
       "      <th>8191</th>\n",
       "      <td>1</td>\n",
       "    </tr>\n",
       "    <tr>\n",
       "      <th>8192</th>\n",
       "      <td>1</td>\n",
       "    </tr>\n",
       "  </tbody>\n",
       "</table>\n",
       "<p>8193 rows × 1 columns</p>\n",
       "</div>"
      ],
      "text/plain": [
       "      0\n",
       "0     1\n",
       "1     1\n",
       "2     1\n",
       "3     1\n",
       "4     1\n",
       "...  ..\n",
       "8188  1\n",
       "8189  1\n",
       "8190  1\n",
       "8191  1\n",
       "8192  1\n",
       "\n",
       "[8193 rows x 1 columns]"
      ]
     },
     "execution_count": 51,
     "metadata": {},
     "output_type": "execute_result"
    }
   ],
   "source": [
    "test_final"
   ]
  },
  {
   "cell_type": "code",
   "execution_count": 53,
   "metadata": {},
   "outputs": [],
   "source": [
    "data_submission = test_data['ID']"
   ]
  },
  {
   "cell_type": "markdown",
   "metadata": {},
   "source": [
    "# Preparing Submission File"
   ]
  },
  {
   "cell_type": "code",
   "execution_count": 54,
   "metadata": {},
   "outputs": [],
   "source": [
    "submission_file = pd.concat([data_submission,test_final], axis = 1)"
   ]
  },
  {
   "cell_type": "code",
   "execution_count": 55,
   "metadata": {},
   "outputs": [
    {
     "data": {
      "text/html": [
       "<div>\n",
       "<style scoped>\n",
       "    .dataframe tbody tr th:only-of-type {\n",
       "        vertical-align: middle;\n",
       "    }\n",
       "\n",
       "    .dataframe tbody tr th {\n",
       "        vertical-align: top;\n",
       "    }\n",
       "\n",
       "    .dataframe thead th {\n",
       "        text-align: right;\n",
       "    }\n",
       "</style>\n",
       "<table border=\"1\" class=\"dataframe\">\n",
       "  <thead>\n",
       "    <tr style=\"text-align: right;\">\n",
       "      <th></th>\n",
       "      <th>ID</th>\n",
       "      <th>0</th>\n",
       "    </tr>\n",
       "  </thead>\n",
       "  <tbody>\n",
       "    <tr>\n",
       "      <th>0</th>\n",
       "      <td>18245</td>\n",
       "      <td>1</td>\n",
       "    </tr>\n",
       "    <tr>\n",
       "      <th>1</th>\n",
       "      <td>9226</td>\n",
       "      <td>1</td>\n",
       "    </tr>\n",
       "    <tr>\n",
       "      <th>2</th>\n",
       "      <td>27195</td>\n",
       "      <td>1</td>\n",
       "    </tr>\n",
       "    <tr>\n",
       "      <th>3</th>\n",
       "      <td>6478</td>\n",
       "      <td>1</td>\n",
       "    </tr>\n",
       "    <tr>\n",
       "      <th>4</th>\n",
       "      <td>4813</td>\n",
       "      <td>1</td>\n",
       "    </tr>\n",
       "    <tr>\n",
       "      <th>...</th>\n",
       "      <td>...</td>\n",
       "      <td>...</td>\n",
       "    </tr>\n",
       "    <tr>\n",
       "      <th>8188</th>\n",
       "      <td>29155</td>\n",
       "      <td>1</td>\n",
       "    </tr>\n",
       "    <tr>\n",
       "      <th>8189</th>\n",
       "      <td>6717</td>\n",
       "      <td>1</td>\n",
       "    </tr>\n",
       "    <tr>\n",
       "      <th>8190</th>\n",
       "      <td>15730</td>\n",
       "      <td>1</td>\n",
       "    </tr>\n",
       "    <tr>\n",
       "      <th>8191</th>\n",
       "      <td>24068</td>\n",
       "      <td>1</td>\n",
       "    </tr>\n",
       "    <tr>\n",
       "      <th>8192</th>\n",
       "      <td>20494</td>\n",
       "      <td>1</td>\n",
       "    </tr>\n",
       "  </tbody>\n",
       "</table>\n",
       "<p>8193 rows × 2 columns</p>\n",
       "</div>"
      ],
      "text/plain": [
       "         ID  0\n",
       "0     18245  1\n",
       "1      9226  1\n",
       "2     27195  1\n",
       "3      6478  1\n",
       "4      4813  1\n",
       "...     ... ..\n",
       "8188  29155  1\n",
       "8189   6717  1\n",
       "8190  15730  1\n",
       "8191  24068  1\n",
       "8192  20494  1\n",
       "\n",
       "[8193 rows x 2 columns]"
      ]
     },
     "execution_count": 55,
     "metadata": {},
     "output_type": "execute_result"
    }
   ],
   "source": [
    "submission_file"
   ]
  },
  {
   "cell_type": "markdown",
   "metadata": {},
   "source": [
    "# Saving results in csv file"
   ]
  },
  {
   "cell_type": "code",
   "execution_count": 56,
   "metadata": {},
   "outputs": [],
   "source": [
    "submission_file.to_csv('Employer_Access.csv', header=False, index=False)"
   ]
  },
  {
   "cell_type": "code",
   "execution_count": null,
   "metadata": {},
   "outputs": [],
   "source": []
  },
  {
   "cell_type": "code",
   "execution_count": null,
   "metadata": {},
   "outputs": [],
   "source": []
  },
  {
   "cell_type": "code",
   "execution_count": null,
   "metadata": {},
   "outputs": [],
   "source": []
  },
  {
   "cell_type": "code",
   "execution_count": null,
   "metadata": {},
   "outputs": [],
   "source": []
  }
 ],
 "metadata": {
  "kernelspec": {
   "display_name": "Python 3",
   "language": "python",
   "name": "python3"
  },
  "language_info": {
   "codemirror_mode": {
    "name": "ipython",
    "version": 3
   },
   "file_extension": ".py",
   "mimetype": "text/x-python",
   "name": "python",
   "nbconvert_exporter": "python",
   "pygments_lexer": "ipython3",
   "version": "3.8.5"
  }
 },
 "nbformat": 4,
 "nbformat_minor": 4
}
